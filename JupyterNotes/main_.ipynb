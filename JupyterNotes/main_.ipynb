{
 "cells": [
  {
   "cell_type": "code",
   "execution_count": 2,
   "metadata": {},
   "outputs": [],
   "source": [
    "from bs4 import BeautifulSoup\n",
    "import requests"
   ]
  },
  {
   "cell_type": "markdown",
   "metadata": {},
   "source": [
    "# get_ids"
   ]
  },
  {
   "cell_type": "code",
   "execution_count": 3,
   "metadata": {},
   "outputs": [],
   "source": [
    "drug_id_list= []\n",
    "\n",
    "for idx in range(10):\n",
    "    url = f'http://idrblab.net/ttd/search/ttd/drm-drug?page={idx}'\n",
    "    \n",
    "    response = requests.get(url)\n",
    "\n",
    "    if response.status_code == 200:\n",
    "        html = response.text\n",
    "        soup = BeautifulSoup(html, 'html.parser')\n",
    "        ul = soup.select('#fixed-width-page > div > main > div.col-md-12 > table > tbody > tr:nth-child(n) > th.h-center > a')\n",
    "        for data in ul:\n",
    "            drug_id_list.append(data.text)\n",
    "    else: \n",
    "        break"
   ]
  },
  {
   "cell_type": "code",
   "execution_count": 7,
   "metadata": {},
   "outputs": [],
   "source": [
    "drug_id = drug_id_list[1]\n",
    "url = 'http://idrblab.net/ttd/data/drm/details/' + drug_id\n",
    "res = requests.get(url)\n",
    "soup = BeautifulSoup(res.text, 'html.parser')"
   ]
  },
  {
   "cell_type": "markdown",
   "metadata": {},
   "source": [
    "# drug_mutation_table"
   ]
  },
  {
   "cell_type": "code",
   "execution_count": 12,
   "metadata": {},
   "outputs": [],
   "source": [
    "rows= []\n",
    "for DRM in soup.find_all('tr', {'class': 'blue-bg'}):\n",
    "    for table in soup.find_all('table', {'class': 'table table-responsive table-bordered table-no-bottom-margin'}):\n",
    "        # print(\"Mutation_info:\", table.find('td', {'class': 'td-blue-bg mutation-info'}).text)\n",
    "        row = [None, None, None, None, None, None]\n",
    "        for table_tr in table.find_all('tr'):\n",
    "            row[0] = drug_id\n",
    "            row[1] = DRM.find('td').text\n",
    "            if table_tr.find('th').text == 'Mutation info':\n",
    "                row[2] = table_tr.find('td').text[:8]\n",
    "                row[3] = table_tr.find('td').text[10:]\n",
    "            elif table_tr.find('th').text == 'Mutation Frequency':\n",
    "                row[4] = table_tr.find('td').text\n",
    "            elif table_tr.find('th').text == 'Level of Resistance':\n",
    "                row[5] = table_tr.find('td').text        \n",
    "        rows.append(row)"
   ]
  },
  {
   "cell_type": "markdown",
   "metadata": {},
   "source": [
    "# target_base_table"
   ]
  },
  {
   "cell_type": "code",
   "execution_count": 10,
   "metadata": {},
   "outputs": [],
   "source": [
    "rows = []\n",
    "for DRM in soup.find_all('tr', {'class': 'blue-bg'}):\n",
    "    row = [None, None, None]\n",
    "    for tr in soup.find_all('tr'):\n",
    "        row[0] = DRM.find('td').text\n",
    "        try:\n",
    "            if tr.find('th').text == 'Species':\n",
    "                row[1] = tr.find('td').text\n",
    "            elif tr.find('th').text == 'Targeted Disease':\n",
    "                row[2] = tr.find('td').text\n",
    "        except:\n",
    "            pass\n",
    "    rows.append(row)"
   ]
  },
  {
   "cell_type": "code",
   "execution_count": 11,
   "metadata": {},
   "outputs": [
    {
     "data": {
      "text/plain": [
       "[['HIV Nucleoside reverse transcriptase',\n",
       "  'Human immunodeficiency virus type 1 (HIV-1)',\n",
       "  'HIV infection'],\n",
       " ['HIV Non-Nucleoside reverse transcriptase',\n",
       "  'Human immunodeficiency virus type 1 (HIV-1)',\n",
       "  'HIV infection']]"
      ]
     },
     "execution_count": 11,
     "metadata": {},
     "output_type": "execute_result"
    }
   ],
   "source": [
    "rows"
   ]
  },
  {
   "cell_type": "code",
   "execution_count": null,
   "metadata": {},
   "outputs": [],
   "source": []
  }
 ],
 "metadata": {
  "interpreter": {
   "hash": "03f8c28e12b80a4d9fa952e42e6816455e7ec62cabcf82957322031aa50fa8c9"
  },
  "kernelspec": {
   "display_name": "Python 3.8.13 ('crawling')",
   "language": "python",
   "name": "python3"
  },
  "language_info": {
   "codemirror_mode": {
    "name": "ipython",
    "version": 3
   },
   "file_extension": ".py",
   "mimetype": "text/x-python",
   "name": "python",
   "nbconvert_exporter": "python",
   "pygments_lexer": "ipython3",
   "version": "3.8.13"
  },
  "orig_nbformat": 4
 },
 "nbformat": 4,
 "nbformat_minor": 2
}
