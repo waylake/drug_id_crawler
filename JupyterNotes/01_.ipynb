{
 "cells": [
  {
   "cell_type": "code",
   "execution_count": 1,
   "metadata": {},
   "outputs": [],
   "source": [
    "from bs4 import BeautifulSoup\n",
    "import requests"
   ]
  },
  {
   "cell_type": "code",
   "execution_count": 71,
   "metadata": {},
   "outputs": [],
   "source": [
    "url = 'http://idrblab.net/ttd/data/drm/details/d0a4ij'\n",
    "res = requests.get(url)\n",
    "soup = BeautifulSoup(res.text, 'lxml')"
   ]
  },
  {
   "cell_type": "code",
   "execution_count": 3,
   "metadata": {},
   "outputs": [],
   "source": [
    "columns = []\n",
    "for i in soup.find_all('th'):\n",
    "    columns.append(i.text)"
   ]
  },
  {
   "cell_type": "code",
   "execution_count": 24,
   "metadata": {},
   "outputs": [],
   "source": [
    "target_base_table = {\n",
    "    'target_name': [],\n",
    "    'species': [],\n",
    "    'targeted_disease': [],\n",
    "}"
   ]
  },
  {
   "cell_type": "code",
   "execution_count": 35,
   "metadata": {},
   "outputs": [],
   "source": [
    "mutation_info = soup.find_all('td', {'class': 'td-blue-bg mutation-info'})"
   ]
  },
  {
   "cell_type": "code",
   "execution_count": 74,
   "metadata": {},
   "outputs": [
    {
     "data": {
      "text/plain": [
       "<table class=\"table table-responsive table-bordered table-no-bottom-margin\">\n",
       "<tbody>\n",
       "<tr>\n",
       "<th class=\"th-blue-bg\" width=\"20%\">Mutation info</th>\n",
       "<td class=\"td-blue-bg mutation-info\" colspan=\"4\" width=\"70%\">Missense: L74I</td>\n",
       "<td class=\"td-black v-center h-center\" rowspan=\"4\">\n",
       "                                    [<a class=\"ref-anchor\" data-id=\"TTDREF00035953\" href=\"#TTDREF00035953\">1</a>]                                  </td>\n",
       "</tr>\n",
       "<tr>\n",
       "<th width=\"15%\">Mutation Frequency</th>\n",
       "<td colspan=\"4\">3-20% of the samples</td>\n",
       "</tr>\n",
       "<tr>\n",
       "<th width=\"15%\">Level of Resistance</th>\n",
       "<td colspan=\"4\">Reduce susceptibility to Abacavir</td>\n",
       "</tr>\n",
       "</tbody>\n",
       "</table>"
      ]
     },
     "execution_count": 74,
     "metadata": {},
     "output_type": "execute_result"
    }
   ],
   "source": [
    "soup.find_all('table', {'class': 'table table-responsive table-bordered table-no-bottom-margin'})[0]"
   ]
  },
  {
   "cell_type": "code",
   "execution_count": 88,
   "metadata": {},
   "outputs": [
    {
     "name": "stdout",
     "output_type": "stream",
     "text": [
      "Missense: L74I\n",
      "Missense: K65R\n",
      "Missense: Y115F\n",
      "Missense: K65N\n",
      "Missense: L74V\n",
      "Missense: K70E\n",
      "Missense: K70G\n",
      "Missense: K70N\n",
      "Missense: K70Q\n",
      "Missense: K70S\n",
      "Missense: K70T\n",
      "Missense: M184I\n",
      "Missense: M184V\n",
      "Missense: M41L\n",
      "Missense: Q151L\n",
      "Missense: Q151M\n",
      "Missense: T210W\n",
      "Missense: T215F\n",
      "Missense: T215Y\n",
      "Deletion: D67\n",
      "Missense: D67E/G/N + K70R + M184I/V + K219E/N/Q/R\n",
      "Deletion: K70\n",
      "Missense: L74I/V + M184I/V\n",
      "Missense: M41L + T215F/Y\n",
      "Deletion: S68\n",
      "Insertion: T69\n",
      "Deletion: T69\n"
     ]
    }
   ],
   "source": [
    "table = {}\n",
    "for i in soup.find_all('table', {'class': 'table table-responsive table-bordered table-no-bottom-margin'}):\n",
    "    for th in i.find_all('th', {'class': 'th-blue-bg'}):\n",
    "        if th.text == 'Mutation info':\n",
    "            table['mutation_info'] = i.find('td', {'class': 'td-blue-bg mutation-info'}).text\n",
    "            print(i.find('td', {'class': 'td-blue-bg mutation-info'}).text)"
   ]
  },
  {
   "cell_type": "code",
   "execution_count": 87,
   "metadata": {},
   "outputs": [
    {
     "data": {
      "text/plain": [
       "{'mutation_info': 'Deletion: T69'}"
      ]
     },
     "execution_count": 87,
     "metadata": {},
     "output_type": "execute_result"
    }
   ],
   "source": [
    "table"
   ]
  },
  {
   "cell_type": "code",
   "execution_count": null,
   "metadata": {},
   "outputs": [],
   "source": []
  }
 ],
 "metadata": {
  "interpreter": {
   "hash": "03f8c28e12b80a4d9fa952e42e6816455e7ec62cabcf82957322031aa50fa8c9"
  },
  "kernelspec": {
   "display_name": "Python 3.8.13 ('crawling')",
   "language": "python",
   "name": "python3"
  },
  "language_info": {
   "codemirror_mode": {
    "name": "ipython",
    "version": 3
   },
   "file_extension": ".py",
   "mimetype": "text/x-python",
   "name": "python",
   "nbconvert_exporter": "python",
   "pygments_lexer": "ipython3",
   "version": "3.8.13"
  },
  "orig_nbformat": 4
 },
 "nbformat": 4,
 "nbformat_minor": 2
}
