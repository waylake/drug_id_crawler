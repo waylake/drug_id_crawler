{
 "cells": [
  {
   "cell_type": "code",
   "execution_count": null,
   "metadata": {},
   "outputs": [],
   "source": [
    "from bs4 import BeautifulSoup\n",
    "import requests"
   ]
  },
  {
   "cell_type": "code",
   "execution_count": null,
   "metadata": {},
   "outputs": [],
   "source": [
    "url = 'http://idrblab.net/ttd/data/drm/details/d0f6eo'\n",
    "res = requests.get(url)\n",
    "soup = BeautifulSoup(res.text, 'html.parser')"
   ]
  },
  {
   "cell_type": "markdown",
   "metadata": {},
   "source": [
    "# get columns"
   ]
  },
  {
   "cell_type": "code",
   "execution_count": null,
   "metadata": {},
   "outputs": [],
   "source": [
    "specific_drugs_columns = []\n",
    "for column in soup.find_all('th'):\n",
    "    specific_drugs_columns.append(column.text)"
   ]
  },
  {
   "cell_type": "markdown",
   "metadata": {},
   "source": [
    "# get values"
   ]
  },
  {
   "cell_type": "code",
   "execution_count": null,
   "metadata": {},
   "outputs": [],
   "source": [
    "temp_dict = {}\n",
    "for columns in specific_drugs_columns:\n",
    "    for i in soup.find_all('tr'):\n",
    "        if i.find('th') is not None:\n",
    "            try:\n",
    "                if i.find('th').text == columns:\n",
    "                    temp_dict[i.find('th').text] = i.find('td').text\n",
    "            except:\n",
    "                pass"
   ]
  },
  {
   "cell_type": "code",
   "execution_count": null,
   "metadata": {},
   "outputs": [],
   "source": [
    "temp_dict ={\n",
    "    'target_name' : [],\n",
    "    'species' : [],\n",
    "    'targeted_disease' : []\n",
    "}\n",
    "rows = []\n",
    "for th in soup.find_all('th'):\n",
    "    if th.text == 'Targeted Disease':\n",
    "        temp_dict['targeted_disease'].append(th.find_next_sibling('td').text)\n",
    "    if th.text == 'Target Name':\n",
    "        temp_dict['target_name'].append(th.find_next_sibling('td').text)\n",
    "    if th.text == 'Species':\n",
    "        temp_dict['species'].append(th.find_next_sibling('td').text)"
   ]
  },
  {
   "cell_type": "code",
   "execution_count": null,
   "metadata": {},
   "outputs": [],
   "source": [
    "temp_dict = {\n",
    "    'mutation': []\n",
    "}\n",
    "for columns in specific_drugs_columns:\n",
    "    for th in soup.find_all('th'):\n",
    "        try:\n",
    "            if th.text == columns:\n",
    "                temp_dict[th.text] = th.find_next_sibling('td').text\n",
    "            if th.text == 'Drug Resistance Mutations':\n",
    "                temp_dict['mutation'].append(th.find_next_sibling('td').text)\n",
    "        except:\n",
    "            pass"
   ]
  },
  {
   "cell_type": "code",
   "execution_count": null,
   "metadata": {},
   "outputs": [],
   "source": [
    "temp_dict['Target Name']"
   ]
  },
  {
   "cell_type": "markdown",
   "metadata": {},
   "source": [
    "----"
   ]
  },
  {
   "cell_type": "code",
   "execution_count": null,
   "metadata": {},
   "outputs": [],
   "source": [
    "a = {}\n",
    "for i in range(len(soup.find_all('th'))):\n",
    "    if soup.find_all('th')[i].text == specific_drugs_columns[i]:\n",
    "        a[soup.find_all('th')[i].text] = soup.find_all('td')[i].text\n"
   ]
  },
  {
   "cell_type": "code",
   "execution_count": null,
   "metadata": {},
   "outputs": [],
   "source": [
    "tbody = soup.select('#fixed-width-page > div > main > div.col-md-12 > table > tbody')"
   ]
  },
  {
   "cell_type": "code",
   "execution_count": null,
   "metadata": {},
   "outputs": [],
   "source": [
    "tbody[0].find_all('tbody')"
   ]
  },
  {
   "cell_type": "code",
   "execution_count": null,
   "metadata": {},
   "outputs": [],
   "source": [
    "soup.find('tr', {'class': 'table-anchor'})"
   ]
  },
  {
   "cell_type": "markdown",
   "metadata": {},
   "source": [
    "# traget name"
   ]
  },
  {
   "cell_type": "code",
   "execution_count": null,
   "metadata": {},
   "outputs": [],
   "source": [
    "for i in soup.find_all('tr'):\n",
    "    if i.find('th') is not None:\n",
    "        if i.find('th').text == 'Target Name':\n",
    "            print(i.find('td').text)"
   ]
  },
  {
   "cell_type": "markdown",
   "metadata": {},
   "source": [
    "# Drug Id"
   ]
  },
  {
   "cell_type": "code",
   "execution_count": null,
   "metadata": {},
   "outputs": [],
   "source": [
    "for i in soup.find_all('tr'):\n",
    "    if i.find('th') is not None:\n",
    "        if i.find('th').text == 'Drug ID':\n",
    "            print(i.find('td').text)"
   ]
  },
  {
   "cell_type": "markdown",
   "metadata": {},
   "source": [
    "# target_base_table rows"
   ]
  },
  {
   "cell_type": "code",
   "execution_count": null,
   "metadata": {},
   "outputs": [],
   "source": [
    "rows = []\n",
    "for i in soup.find_all('tr'):\n",
    "    if i.find('th') is not None:\n",
    "        if i.find('th').text == 'Targeted Disease':\n",
    "            targeted_disease = i.find('td').text\n",
    "        elif i.find('th').text == 'Target Name':\n",
    "            target_name = i.find('td').text\n",
    "\n",
    "        elif i.find('th').text == 'Species':\n",
    "            species = i.find('td').text\n",
    "            rows += [[target_name, species, targeted_disease]]"
   ]
  },
  {
   "cell_type": "code",
   "execution_count": null,
   "metadata": {},
   "outputs": [],
   "source": [
    "import pandas as pd\n",
    "tbody = soup.select('#fixed-width-page > div > main > div.col-md-12 > table > tbody')"
   ]
  },
  {
   "cell_type": "code",
   "execution_count": null,
   "metadata": {},
   "outputs": [],
   "source": [
    "target = ['Target Name', 'Species', 'Targeted Disease']\n",
    "rows = []\n",
    "for i in tbody[0].find_all('tr'):\n",
    "    if i.find('th') is not None:\n",
    "        if i.find('th').text == 'Target Name':\n",
    "            target_name = i.find('td').text\n",
    "        elif i.find('th').text == 'Species':\n",
    "            species = i.find('td').text\n",
    "        elif i.find('th').text == 'Targeted Disease':\n",
    "            targeted_disease = i.find('td').text\n",
    "            rows += [[target_name, species, targeted_disease]]"
   ]
  },
  {
   "cell_type": "markdown",
   "metadata": {},
   "source": [
    "# drug_mutation_table"
   ]
  },
  {
   "cell_type": "code",
   "execution_count": null,
   "metadata": {},
   "outputs": [],
   "source": [
    "tbody = soup.select('#fixed-width-page > div > main > div.col-md-12 > table > tbody')\n",
    "rows = []\n",
    "target_tag = ['ttdDrugId', 'targetName', 'mutationType', 'mutation', 'frequency', 'levelOfResistance']\n",
    "\n",
    "for i in tbody[0].find_all('tr'):\n",
    "    if i.find('th').text == 'Target Name':\n",
    "        target_name = i.find('td').text\n",
    "    elif i.find('th').text == 'Drug Resistance Mutations':\n",
    "        mutation = i.find('td').text\n",
    "    elif i.find('th').text == 'Mutation Frequency':\n",
    "        frequency = i.find('td').text\n",
    "\n",
    "    elif i.find('th').text == 'Level of Resistance':\n",
    "        level_of_resistance = i.find('td').text\n"
   ]
  },
  {
   "cell_type": "markdown",
   "metadata": {},
   "source": [
    "----"
   ]
  },
  {
   "cell_type": "code",
   "execution_count": null,
   "metadata": {},
   "outputs": [],
   "source": []
  }
 ],
 "metadata": {
  "interpreter": {
   "hash": "03f8c28e12b80a4d9fa952e42e6816455e7ec62cabcf82957322031aa50fa8c9"
  },
  "kernelspec": {
   "display_name": "Python 3.8.13 ('crawling')",
   "language": "python",
   "name": "python3"
  },
  "language_info": {
   "codemirror_mode": {
    "name": "ipython",
    "version": 3
   },
   "file_extension": ".py",
   "mimetype": "text/x-python",
   "name": "python",
   "nbconvert_exporter": "python",
   "pygments_lexer": "ipython3",
   "version": "3.8.13"
  },
  "orig_nbformat": 4
 },
 "nbformat": 4,
 "nbformat_minor": 2
}
