{
 "cells": [
  {
   "cell_type": "code",
   "execution_count": null,
   "metadata": {},
   "outputs": [],
   "source": [
    "from bs4 import BeautifulSoup\n",
    "import requests\n",
    "import pickle\n",
    "import sys\n",
    "sys.setrecursionlimit(10**6)"
   ]
  },
  {
   "cell_type": "code",
   "execution_count": 44,
   "metadata": {},
   "outputs": [],
   "source": [
    "class Drug_scraper:\n",
    "    def __init__(self):\n",
    "        self.drug_id = []\n",
    "        self.base_url = \"http://idrblab.net/ttd/search/ttd/drm-drug?page=\"\n",
    "        self.info_url = 'http://idrblab.net/ttd/data/drm/details/'\n",
    "        self.get_drug_id()\n",
    "\n",
    "    def get_drug_id(self):\n",
    "\n",
    "        for i in range(4):\n",
    "            res = requests.get(self.base_url + str(i))\n",
    "            if res.status_code == 200:\n",
    "                soup = BeautifulSoup(res.text, \"html.parser\")\n",
    "                ul = soup.select('#fixed-width-page > div > main > div.col-md-12 > table > tbody > tr:nth-child(n) > th.h-center > a')\n",
    "                for i in ul:\n",
    "                    self.drug_id.append(i.text)\n",
    "            else:\n",
    "                print(\"Error: \", res.status_code)\n",
    "                break\n",
    "            \n",
    "    def get_drug_info(self):\n",
    "        for drug in self.drug_id:\n",
    "            res = requests.get(self.info_url + drug)\n",
    "            if res.status_code == 200:\n",
    "                soup = BeautifulSoup(res.text, 'html.parser')\n",
    "                \n",
    "    "
   ]
  },
  {
   "cell_type": "code",
   "execution_count": 45,
   "metadata": {},
   "outputs": [],
   "source": [
    "scraper = Drug_scraper()\n",
    "scraper.get_drug_id()"
   ]
  },
  {
   "cell_type": "code",
   "execution_count": null,
   "metadata": {},
   "outputs": [],
   "source": []
  }
 ],
 "metadata": {
  "interpreter": {
   "hash": "b0fa6594d8f4cbf19f97940f81e996739fb7646882a419484c72d19e05852a7e"
  },
  "kernelspec": {
   "display_name": "Python 3.9.12 64-bit",
   "language": "python",
   "name": "python3"
  },
  "language_info": {
   "codemirror_mode": {
    "name": "ipython",
    "version": 3
   },
   "file_extension": ".py",
   "mimetype": "text/x-python",
   "name": "python",
   "nbconvert_exporter": "python",
   "pygments_lexer": "ipython3",
   "version": "3.8.13"
  },
  "orig_nbformat": 4
 },
 "nbformat": 4,
 "nbformat_minor": 2
}
